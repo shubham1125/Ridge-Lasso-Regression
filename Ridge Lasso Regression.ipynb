{
 "cells": [
  {
   "cell_type": "code",
   "execution_count": 99,
   "id": "a515b579",
   "metadata": {},
   "outputs": [],
   "source": [
    "import numpy as np\n",
    "import pandas as pd\n",
    "import matplotlib.pyplot as plt\n",
    "from sklearn.linear_model import Ridge\n",
    "from sklearn.linear_model import Lasso\n",
    "from sklearn.datasets import load_diabetes\n",
    "from sklearn.linear_model import LinearRegression\n",
    "from sklearn.model_selection import train_test_split\n",
    "from sklearn.metrics import r2_score, mean_squared_error,mean_absolute_error\n",
    "import warnings\n",
    "warnings.filterwarnings(\"ignore\")"
   ]
  },
  {
   "cell_type": "code",
   "execution_count": 19,
   "id": "143b38bb",
   "metadata": {},
   "outputs": [],
   "source": [
    "data = load_diabetes()"
   ]
  },
  {
   "cell_type": "code",
   "execution_count": 5,
   "id": "9ba62d6f",
   "metadata": {
    "collapsed": true
   },
   "outputs": [
    {
     "name": "stdout",
     "output_type": "stream",
     "text": [
      ".. _diabetes_dataset:\n",
      "\n",
      "Diabetes dataset\n",
      "----------------\n",
      "\n",
      "Ten baseline variables, age, sex, body mass index, average blood\n",
      "pressure, and six blood serum measurements were obtained for each of n =\n",
      "442 diabetes patients, as well as the response of interest, a\n",
      "quantitative measure of disease progression one year after baseline.\n",
      "\n",
      "**Data Set Characteristics:**\n",
      "\n",
      "  :Number of Instances: 442\n",
      "\n",
      "  :Number of Attributes: First 10 columns are numeric predictive values\n",
      "\n",
      "  :Target: Column 11 is a quantitative measure of disease progression one year after baseline\n",
      "\n",
      "  :Attribute Information:\n",
      "      - age     age in years\n",
      "      - sex\n",
      "      - bmi     body mass index\n",
      "      - bp      average blood pressure\n",
      "      - s1      tc, total serum cholesterol\n",
      "      - s2      ldl, low-density lipoproteins\n",
      "      - s3      hdl, high-density lipoproteins\n",
      "      - s4      tch, total cholesterol / HDL\n",
      "      - s5      ltg, possibly log of serum triglycerides level\n",
      "      - s6      glu, blood sugar level\n",
      "\n",
      "Note: Each of these 10 feature variables have been mean centered and scaled by the standard deviation times `n_samples` (i.e. the sum of squares of each column totals 1).\n",
      "\n",
      "Source URL:\n",
      "https://www4.stat.ncsu.edu/~boos/var.select/diabetes.html\n",
      "\n",
      "For more information see:\n",
      "Bradley Efron, Trevor Hastie, Iain Johnstone and Robert Tibshirani (2004) \"Least Angle Regression,\" Annals of Statistics (with discussion), 407-499.\n",
      "(https://web.stanford.edu/~hastie/Papers/LARS/LeastAngle_2002.pdf)\n"
     ]
    }
   ],
   "source": [
    "print(data.DESCR)"
   ]
  },
  {
   "cell_type": "code",
   "execution_count": 20,
   "id": "ba483021",
   "metadata": {},
   "outputs": [],
   "source": [
    "X= data.data\n",
    "y = data.target"
   ]
  },
  {
   "cell_type": "code",
   "execution_count": 27,
   "id": "3bc0a2bb",
   "metadata": {},
   "outputs": [],
   "source": [
    "X_train,X_test,y_train,y_test = train_test_split(X,y,train_size=0.8,random_state=10)"
   ]
  },
  {
   "cell_type": "code",
   "execution_count": 28,
   "id": "12fe35c0",
   "metadata": {},
   "outputs": [],
   "source": [
    "model = LinearRegression()"
   ]
  },
  {
   "cell_type": "code",
   "execution_count": 29,
   "id": "8e44322c",
   "metadata": {},
   "outputs": [
    {
     "data": {
      "text/plain": [
       "LinearRegression()"
      ]
     },
     "execution_count": 29,
     "metadata": {},
     "output_type": "execute_result"
    }
   ],
   "source": [
    "model.fit(X_train,y_train)"
   ]
  },
  {
   "cell_type": "code",
   "execution_count": 31,
   "id": "df50bcd3",
   "metadata": {},
   "outputs": [
    {
     "data": {
      "text/plain": [
       "152.2555053490769"
      ]
     },
     "execution_count": 31,
     "metadata": {},
     "output_type": "execute_result"
    }
   ],
   "source": [
    "model.intercept_"
   ]
  },
  {
   "cell_type": "code",
   "execution_count": 32,
   "id": "20f3a390",
   "metadata": {},
   "outputs": [
    {
     "data": {
      "text/plain": [
       "array([  -3.89155188, -225.62880027,  517.89525355,  328.32132183,\n",
       "       -727.23345563,  410.96799392,   80.26601137,  218.18738355,\n",
       "        704.2805541 ,   40.02247238])"
      ]
     },
     "execution_count": 32,
     "metadata": {},
     "output_type": "execute_result"
    }
   ],
   "source": [
    "model.coef_"
   ]
  },
  {
   "cell_type": "code",
   "execution_count": 33,
   "id": "fc36a688",
   "metadata": {},
   "outputs": [],
   "source": [
    "y_pred = model.predict(X_test)"
   ]
  },
  {
   "cell_type": "code",
   "execution_count": 56,
   "id": "ca12da99",
   "metadata": {},
   "outputs": [],
   "source": [
    "y_pred_train = model.predict(X_train)"
   ]
  },
  {
   "cell_type": "code",
   "execution_count": 63,
   "id": "cb895c7c",
   "metadata": {},
   "outputs": [
    {
     "name": "stdout",
     "output_type": "stream",
     "text": [
      "The value of R_square = 0.5341962544929233 \n",
      "mean_squared_error = 2911.8279516891616\n",
      "mean_absolute_error = 42.79624838980985\n"
     ]
    }
   ],
   "source": [
    "\n",
    "## Model evaluation on testing data\n",
    "\n",
    "r2_square = r2_score(y_test,y_pred)\n",
    "print(f\"The value of R_square = {r2_square} \")\n",
    "\n",
    "mean_squared_er = mean_squared_error(y_test,y_pred)\n",
    "print(f\"mean_squared_error = {mean_squared_er}\")\n",
    "\n",
    "mean_absolute_er = mean_absolute_error(y_test,y_pred)\n",
    "print(f\"mean_absolute_error = {mean_absolute_er}\")"
   ]
  },
  {
   "cell_type": "code",
   "execution_count": 64,
   "id": "7818c800",
   "metadata": {},
   "outputs": [
    {
     "name": "stdout",
     "output_type": "stream",
     "text": [
      "The value of R_square = 0.512296822080179 \n",
      "mean_squared_error = 2851.0252092365863\n",
      "mean_absolute_error = 43.47090654492663\n"
     ]
    }
   ],
   "source": [
    "## Model evaluation on training data\n",
    "\n",
    "r2_square = r2_score(y_train,y_pred_train)\n",
    "print(f\"The value of R_square = {r2_square} \")\n",
    "\n",
    "mean_squared_er = mean_squared_error(y_train,y_pred_train)\n",
    "print(f\"mean_squared_error = {mean_squared_er}\")\n",
    "\n",
    "mean_absolute_er = mean_absolute_error(y_train,y_pred_train)\n",
    "print(f\"mean_absolute_error = {mean_absolute_er}\")"
   ]
  },
  {
   "cell_type": "markdown",
   "id": "23a56e8b",
   "metadata": {},
   "source": [
    "## Ridge Regression"
   ]
  },
  {
   "cell_type": "code",
   "execution_count": 73,
   "id": "f844ca31",
   "metadata": {},
   "outputs": [
    {
     "data": {
      "text/plain": [
       "Ridge(alpha=0.0001)"
      ]
     },
     "execution_count": 73,
     "metadata": {},
     "output_type": "execute_result"
    }
   ],
   "source": [
    "ridge_model = Ridge(alpha=0.0001)\n",
    "ridge_model.fit(X_train,y_train)"
   ]
  },
  {
   "cell_type": "code",
   "execution_count": 74,
   "id": "cb19dc86",
   "metadata": {},
   "outputs": [],
   "source": [
    "y_pred_ridge = ridge_model.predict(X_test)"
   ]
  },
  {
   "cell_type": "code",
   "execution_count": 75,
   "id": "f1b6add5",
   "metadata": {},
   "outputs": [],
   "source": [
    "y_pred_ridge_train = ridge_model.predict(X_train)"
   ]
  },
  {
   "cell_type": "code",
   "execution_count": 76,
   "id": "6ef6ae6f",
   "metadata": {},
   "outputs": [
    {
     "name": "stdout",
     "output_type": "stream",
     "text": [
      "The value of R_square = 0.5341508419142531 \n",
      "mean_squared_error = 2912.111834369809\n",
      "mean_absolute_error = 42.797228256744546\n"
     ]
    }
   ],
   "source": [
    "\n",
    "## Model evaluation on testing data\n",
    "\n",
    "r2_square = r2_score(y_test,y_pred_ridge)\n",
    "print(f\"The value of R_square = {r2_square} \")\n",
    "\n",
    "mean_squared_er = mean_squared_error(y_test,y_pred_ridge)\n",
    "print(f\"mean_squared_error = {mean_squared_er}\")\n",
    "\n",
    "mean_absolute_er = mean_absolute_error(y_test,y_pred_ridge)\n",
    "print(f\"mean_absolute_error = {mean_absolute_er}\")"
   ]
  },
  {
   "cell_type": "code",
   "execution_count": 77,
   "id": "52da545f",
   "metadata": {},
   "outputs": [
    {
     "name": "stdout",
     "output_type": "stream",
     "text": [
      "The value of R_square = 0.5122961928039844 \n",
      "mean_squared_error = 2851.0288878722313\n",
      "mean_absolute_error = 43.47257745441781\n"
     ]
    }
   ],
   "source": [
    "## Model evaluation on testing data\n",
    "\n",
    "r2_square = r2_score(y_train,y_pred_ridge_train)\n",
    "print(f\"The value of R_square = {r2_square} \")\n",
    "\n",
    "mean_squared_er = mean_squared_error(y_train,y_pred_ridge_train)\n",
    "print(f\"mean_squared_error = {mean_squared_er}\")\n",
    "\n",
    "mean_absolute_er = mean_absolute_error(y_train,y_pred_ridge_train)\n",
    "print(f\"mean_absolute_error = {mean_absolute_er}\")"
   ]
  },
  {
   "cell_type": "markdown",
   "id": "0c3f4de9",
   "metadata": {},
   "source": [
    "## Losso"
   ]
  },
  {
   "cell_type": "code",
   "execution_count": 78,
   "id": "d3bca668",
   "metadata": {},
   "outputs": [],
   "source": [
    "from sklearn.linear_model import Lasso\n",
    "from sklearn.datasets import make_regression"
   ]
  },
  {
   "cell_type": "code",
   "execution_count": 92,
   "id": "1415da63",
   "metadata": {},
   "outputs": [
    {
     "data": {
      "text/plain": [
       "<matplotlib.collections.PathCollection at 0x16cf98298e0>"
      ]
     },
     "execution_count": 92,
     "metadata": {},
     "output_type": "execute_result"
    },
    {
     "data": {
      "image/png": "[encoded data removed]",
      "text/plain": [
       "<Figure size 640x480 with 1 Axes>"
      ]
     },
     "metadata": {},
     "output_type": "display_data"
    }
   ],
   "source": [
    "X,y = make_regression(n_samples=100, n_features=1, n_informative=1, n_targets=1,noise=20,random_state=13)\n",
    "plt.scatter(X,y)"
   ]
  },
  {
   "cell_type": "code",
   "execution_count": 85,
   "id": "1fb2af9b",
   "metadata": {},
   "outputs": [],
   "source": [
    "X_train,X_test,y_train,y_test = train_test_split(X,y,test_size=0.2)"
   ]
  },
  {
   "cell_type": "code",
   "execution_count": 93,
   "id": "b9fc2820",
   "metadata": {},
   "outputs": [
    {
     "data": {
      "text/plain": [
       "LinearRegression()"
      ]
     },
     "execution_count": 93,
     "metadata": {},
     "output_type": "execute_result"
    }
   ],
   "source": [
    "reg = LinearRegression()\n",
    "reg.fit(X_train,y_train)"
   ]
  },
  {
   "cell_type": "code",
   "execution_count": 94,
   "id": "fff46ca1",
   "metadata": {},
   "outputs": [
    {
     "data": {
      "text/plain": [
       "array([28.11017914])"
      ]
     },
     "execution_count": 94,
     "metadata": {},
     "output_type": "execute_result"
    }
   ],
   "source": [
    "reg.coef_"
   ]
  },
  {
   "cell_type": "code",
   "execution_count": 95,
   "id": "a99e5a37",
   "metadata": {},
   "outputs": [
    {
     "data": {
      "text/plain": [
       "-2.8750257420416947"
      ]
     },
     "execution_count": 95,
     "metadata": {},
     "output_type": "execute_result"
    }
   ],
   "source": [
    "reg.intercept_"
   ]
  },
  {
   "cell_type": "code",
   "execution_count": 97,
   "id": "e48b1f53",
   "metadata": {},
   "outputs": [],
   "source": [
    "L = Lasso(alpha=0)"
   ]
  },
  {
   "cell_type": "code",
   "execution_count": 108,
   "id": "1960425b",
   "metadata": {},
   "outputs": [
    {
     "name": "stdout",
     "output_type": "stream",
     "text": [
      "0.6440262354503874 0.7171531161828348\n",
      "0.6254777299217205 0.6858154942234612\n",
      "0.5424199845840243 0.5918026283453405\n",
      "-0.02854483736192437 0.0\n"
     ]
    },
    {
     "data": {
      "image/png": "[encoded data removed]",
      "text/plain": [
       "<Figure size 1200x600 with 1 Axes>"
      ]
     },
     "metadata": {},
     "output_type": "display_data"
    }
   ],
   "source": [
    "alphas = [0,5,10,30]\n",
    "plt.figure(figsize=(12,6))\n",
    "plt.scatter(X,y)\n",
    "for alpha in alphas:\n",
    "    L = Lasso(alpha=alpha)\n",
    "    L.fit(X_train,y_train)\n",
    "    y_pred_test = L.predict(X_test)\n",
    "    y_pred_train = L.predict(X_train)\n",
    "    plt.plot(X_test,y_pred_test,label=f\"Alpha ={alpha}\")\n",
    "    r2_square_test = r2_score(y_test,y_pred_test)\n",
    "    r2_square_train = r2_score(y_train,y_pred_train)\n",
    "    print(r2_square_test,r2_square_train)\n",
    "plt.legend()\n",
    "plt.show()"
   ]
  },
  {
   "cell_type": "code",
   "execution_count": null,
   "id": "07c37d5d",
   "metadata": {},
   "outputs": [],
   "source": []
  },
  {
   "cell_type": "code",
   "execution_count": null,
   "id": "f6ca03b6",
   "metadata": {},
   "outputs": [],
   "source": []
  },
  {
   "cell_type": "code",
   "execution_count": null,
   "id": "aa2ce87d",
   "metadata": {},
   "outputs": [],
   "source": []
  },
  {
   "cell_type": "code",
   "execution_count": null,
   "id": "8c0ced61",
   "metadata": {},
   "outputs": [],
   "source": []
  }
 ],
 "metadata": {
  "kernelspec": {
   "display_name": "Python 3 (ipykernel)",
   "language": "python",
   "name": "python3"
  },
  "language_info": {
   "codemirror_mode": {
    "name": "ipython",
    "version": 3
   },
   "file_extension": ".py",
   "mimetype": "text/x-python",
   "name": "python",
   "nbconvert_exporter": "python",
   "pygments_lexer": "ipython3",
   "version": "3.9.13"
  }
 },
 "nbformat": 4,
 "nbformat_minor": 5
}
